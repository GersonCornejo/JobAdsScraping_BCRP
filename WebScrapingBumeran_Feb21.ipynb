{
  "nbformat": 4,
  "nbformat_minor": 0,
  "metadata": {
    "colab": {
      "name": "WebScrapingBumeranTotalgg.ipynb",
      "provenance": [],
      "collapsed_sections": []
    },
    "kernelspec": {
      "display_name": "Python 3",
      "language": "python",
      "name": "python3"
    },
    "language_info": {
      "codemirror_mode": {
        "name": "ipython",
        "version": 3
      },
      "file_extension": ".py",
      "mimetype": "text/x-python",
      "name": "python",
      "nbconvert_exporter": "python",
      "pygments_lexer": "ipython3",
      "version": "3.7.3"
    },
    "accelerator": "GPU"
  },
  "cells": [
    {
      "cell_type": "markdown",
      "metadata": {
        "id": "mIvskFDAthJq"
      },
      "source": [
        "# Web Scraping Bumeran (Selenium)"
      ]
    },
    {
      "cell_type": "markdown",
      "metadata": {
        "id": "dEKrDZaVtshr"
      },
      "source": [
        "*   Configuración\n",
        "\n"
      ]
    },
    {
      "cell_type": "code",
      "metadata": {
        "id": "oHPK-Si6m7PZ",
        "colab": {
          "base_uri": "https://localhost:8080/"
        },
        "outputId": "d867a139-9c34-41a3-8e3e-fef5e9252bbc"
      },
      "source": [
        "!pip install selenium\n",
        "!apt-get update # to update ubuntu to correctly run apt install\n",
        "!apt install chromium-chromedriver\n",
        "!cp /usr/lib/chromium-browser/chromedriver /usr/bin"
      ],
      "execution_count": 11,
      "outputs": [
        {
          "output_type": "stream",
          "text": [
            "Requirement already satisfied: selenium in /usr/local/lib/python3.6/dist-packages (3.141.0)\n",
            "Requirement already satisfied: urllib3 in /usr/local/lib/python3.6/dist-packages (from selenium) (1.24.3)\n",
            "Hit:1 https://cloud.r-project.org/bin/linux/ubuntu bionic-cran40/ InRelease\n",
            "Ign:2 https://developer.download.nvidia.com/compute/cuda/repos/ubuntu1804/x86_64  InRelease\n",
            "Hit:3 http://archive.ubuntu.com/ubuntu bionic InRelease\n",
            "Get:4 http://ppa.launchpad.net/c2d4u.team/c2d4u4.0+/ubuntu bionic InRelease [15.9 kB]\n",
            "Ign:5 https://developer.download.nvidia.com/compute/machine-learning/repos/ubuntu1804/x86_64  InRelease\n",
            "Hit:6 https://developer.download.nvidia.com/compute/cuda/repos/ubuntu1804/x86_64  Release\n",
            "Hit:7 https://developer.download.nvidia.com/compute/machine-learning/repos/ubuntu1804/x86_64  Release\n",
            "Get:8 http://security.ubuntu.com/ubuntu bionic-security InRelease [88.7 kB]\n",
            "Get:9 http://archive.ubuntu.com/ubuntu bionic-updates InRelease [88.7 kB]\n",
            "Hit:10 http://ppa.launchpad.net/cran/libgit2/ubuntu bionic InRelease\n",
            "Get:12 http://archive.ubuntu.com/ubuntu bionic-backports InRelease [74.6 kB]\n",
            "Hit:13 http://ppa.launchpad.net/graphics-drivers/ppa/ubuntu bionic InRelease\n",
            "Get:15 http://ppa.launchpad.net/c2d4u.team/c2d4u4.0+/ubuntu bionic/main Sources [1,725 kB]\n",
            "Get:16 http://ppa.launchpad.net/c2d4u.team/c2d4u4.0+/ubuntu bionic/main amd64 Packages [883 kB]\n",
            "Fetched 2,876 kB in 2s (1,449 kB/s)\n",
            "Reading package lists... Done\n",
            "Reading package lists... Done\n",
            "Building dependency tree       \n",
            "Reading state information... Done\n",
            "chromium-chromedriver is already the newest version (87.0.4280.66-0ubuntu0.18.04.1).\n",
            "0 upgraded, 0 newly installed, 0 to remove and 18 not upgraded.\n",
            "cp: '/usr/lib/chromium-browser/chromedriver' and '/usr/bin/chromedriver' are the same file\n"
          ],
          "name": "stdout"
        }
      ]
    },
    {
      "cell_type": "markdown",
      "metadata": {
        "id": "yc1zJEm8uthx"
      },
      "source": [
        ""
      ]
    },
    {
      "cell_type": "code",
      "metadata": {
        "id": "BbztqemjoDnT"
      },
      "source": [
        "import sys\n",
        "sys.path.insert(0,'/usr/lib/chromium-browser/chromedriver')\n",
        "import math\n",
        "import time\n",
        "from datetime import datetime\n",
        "import pytz"
      ],
      "execution_count": 12,
      "outputs": []
    },
    {
      "cell_type": "code",
      "metadata": {
        "id": "qz0zfBz8oSPu",
        "colab": {
          "base_uri": "https://localhost:8080/"
        },
        "outputId": "cf0b318f-19fd-42fb-e7f2-8f1a920f29aa"
      },
      "source": [
        "from selenium import webdriver\n",
        "chrome_options = webdriver.ChromeOptions()\n",
        "chrome_options.add_argument('--headless')\n",
        "chrome_options.add_argument('--no-sandbox')\n",
        "chrome_options.add_argument('--disable-dev-shm-usage')\n",
        "wd = webdriver.Chrome('chromedriver',chrome_options=chrome_options)\n",
        "wd.maximize_window()"
      ],
      "execution_count": 13,
      "outputs": [
        {
          "output_type": "stream",
          "text": [
            "/usr/local/lib/python3.6/dist-packages/ipykernel_launcher.py:6: DeprecationWarning: use options instead of chrome_options\n",
            "  \n"
          ],
          "name": "stderr"
        }
      ]
    },
    {
      "cell_type": "code",
      "metadata": {
        "id": "0OvZCLRfoWTL"
      },
      "source": [
        "wd.get(\"https://www.bumeran.com.pe/empleos-publicacion-menor-a-7-dias.html\")"
      ],
      "execution_count": 14,
      "outputs": []
    },
    {
      "cell_type": "code",
      "metadata": {
        "id": "J3Zp8nwZodhK",
        "colab": {
          "base_uri": "https://localhost:8080/"
        },
        "outputId": "e0786772-2acc-428f-f7a9-aefc386cf4a4"
      },
      "source": [
        "total = wd.find_element_by_tag_name(\"h1\")\n",
        "print(total.text)\n",
        "a=total.text.split(\" \")\n",
        "print(a)\n",
        "limite=math.ceil(int(a[0].replace(',', ''))/20)\n",
        "print(limite)\n",
        "mytz = pytz.timezone('America/Lima')\n",
        "x=pytz.utc.localize(datetime.utcnow(), is_dst=None).astimezone(mytz)\n",
        "hoy=x.strftime(\"%d-%m-%y\")\n",
        "dia=hoy.split(\"-\")\n",
        "num=dia[0]\n",
        "fecha=hoy.replace(\"-\",\"\")\n",
        "name=\"Bumeran\"+fecha+\".xlsx\" \n",
        "print(name)\n",
        "print(num)"
      ],
      "execution_count": 15,
      "outputs": [
        {
          "output_type": "stream",
          "text": [
            "2,928 empleos Menor a 1 semana\n",
            "['2,928', 'empleos', 'Menor', 'a', '1', 'semana']\n",
            "147\n",
            "Bumeran060221.xlsx\n",
            "06\n"
          ],
          "name": "stdout"
        }
      ]
    },
    {
      "cell_type": "code",
      "metadata": {
        "id": "BpjmBDSYN_mm"
      },
      "source": [
        "def pagina_s():\n",
        "    c1=wd.find_element_by_xpath('//button[@class=\"Pagination__NextPage-el3mid-4 jnOlzC\"]')\n",
        "    wd.implicitly_wait(4)\n",
        "    c1.click()\n",
        "  "
      ],
      "execution_count": 16,
      "outputs": []
    },
    {
      "cell_type": "code",
      "metadata": {
        "id": "fnl0-xz1pGHw",
        "colab": {
          "base_uri": "https://localhost:8080/"
        },
        "outputId": "cde147f4-2341-482f-9e1a-bca9bc9f446a"
      },
      "source": [
        "# x1=wd.find_elements_by_xpath(\"//div[@id='listado-avisos']/div/a/@href\")\n",
        "Url=[]\n",
        "for i in range(limite):\n",
        "  if i ==0:\n",
        "    avisos = wd.find_elements_by_id(\"listado-avisos\")\n",
        "    a = [elem.get_attribute(\"href\") for elem in wd.find_elements_by_xpath(\"//div[@id='listado-avisos']/div/a\")]\n",
        "    for ds in a:\n",
        "      Url.append(ds)\n",
        "    # print(Url)\n",
        "    # print(len(a))\n",
        "    # print(i)\n",
        "  else:\n",
        "    # print(i)\n",
        "    pagina_s()\n",
        "    avisos = wd.find_elements_by_id(\"listado-avisos\")\n",
        "    a = [elem.get_attribute(\"href\") for elem in wd.find_elements_by_xpath(\"//div[@id='listado-avisos']/div/a\")]\n",
        "    for ds in a:\n",
        "      Url.append(ds)\n",
        "    # Url.append(a)\n",
        "    # print(Url)\n",
        "    # print(len(a))\n",
        "    print(\"Tamaño del vector: \"+ str(len(Url)))\n",
        "  # for ds in a:\n",
        "  #   x=ds\n",
        "  #   Url.append(x)\n",
        "  #   print(ds)\n",
        "  # print(Url)\n"
      ],
      "execution_count": 17,
      "outputs": [
        {
          "output_type": "stream",
          "text": [
            "Tamaño del vector: 40\n",
            "Tamaño del vector: 60\n",
            "Tamaño del vector: 80\n",
            "Tamaño del vector: 100\n",
            "Tamaño del vector: 120\n",
            "Tamaño del vector: 140\n",
            "Tamaño del vector: 160\n",
            "Tamaño del vector: 180\n",
            "Tamaño del vector: 200\n",
            "Tamaño del vector: 220\n",
            "Tamaño del vector: 240\n",
            "Tamaño del vector: 260\n",
            "Tamaño del vector: 280\n",
            "Tamaño del vector: 300\n",
            "Tamaño del vector: 320\n",
            "Tamaño del vector: 340\n",
            "Tamaño del vector: 360\n",
            "Tamaño del vector: 380\n",
            "Tamaño del vector: 400\n",
            "Tamaño del vector: 420\n",
            "Tamaño del vector: 440\n",
            "Tamaño del vector: 460\n",
            "Tamaño del vector: 480\n",
            "Tamaño del vector: 500\n",
            "Tamaño del vector: 520\n",
            "Tamaño del vector: 540\n",
            "Tamaño del vector: 560\n",
            "Tamaño del vector: 580\n",
            "Tamaño del vector: 600\n",
            "Tamaño del vector: 620\n",
            "Tamaño del vector: 640\n",
            "Tamaño del vector: 660\n",
            "Tamaño del vector: 680\n",
            "Tamaño del vector: 700\n",
            "Tamaño del vector: 720\n",
            "Tamaño del vector: 740\n",
            "Tamaño del vector: 760\n",
            "Tamaño del vector: 780\n",
            "Tamaño del vector: 800\n",
            "Tamaño del vector: 820\n",
            "Tamaño del vector: 840\n",
            "Tamaño del vector: 860\n",
            "Tamaño del vector: 880\n",
            "Tamaño del vector: 900\n",
            "Tamaño del vector: 920\n",
            "Tamaño del vector: 940\n",
            "Tamaño del vector: 960\n",
            "Tamaño del vector: 980\n",
            "Tamaño del vector: 1000\n",
            "Tamaño del vector: 1020\n",
            "Tamaño del vector: 1040\n",
            "Tamaño del vector: 1060\n",
            "Tamaño del vector: 1080\n",
            "Tamaño del vector: 1100\n",
            "Tamaño del vector: 1120\n",
            "Tamaño del vector: 1140\n",
            "Tamaño del vector: 1160\n",
            "Tamaño del vector: 1180\n",
            "Tamaño del vector: 1200\n",
            "Tamaño del vector: 1220\n",
            "Tamaño del vector: 1240\n",
            "Tamaño del vector: 1260\n",
            "Tamaño del vector: 1280\n",
            "Tamaño del vector: 1300\n",
            "Tamaño del vector: 1320\n",
            "Tamaño del vector: 1340\n",
            "Tamaño del vector: 1360\n",
            "Tamaño del vector: 1380\n",
            "Tamaño del vector: 1400\n",
            "Tamaño del vector: 1420\n",
            "Tamaño del vector: 1440\n",
            "Tamaño del vector: 1460\n",
            "Tamaño del vector: 1480\n",
            "Tamaño del vector: 1500\n",
            "Tamaño del vector: 1520\n",
            "Tamaño del vector: 1540\n",
            "Tamaño del vector: 1560\n",
            "Tamaño del vector: 1580\n",
            "Tamaño del vector: 1600\n",
            "Tamaño del vector: 1620\n",
            "Tamaño del vector: 1640\n",
            "Tamaño del vector: 1660\n",
            "Tamaño del vector: 1680\n",
            "Tamaño del vector: 1700\n",
            "Tamaño del vector: 1720\n",
            "Tamaño del vector: 1740\n",
            "Tamaño del vector: 1760\n",
            "Tamaño del vector: 1780\n",
            "Tamaño del vector: 1800\n",
            "Tamaño del vector: 1820\n",
            "Tamaño del vector: 1840\n",
            "Tamaño del vector: 1860\n",
            "Tamaño del vector: 1880\n",
            "Tamaño del vector: 1900\n",
            "Tamaño del vector: 1920\n",
            "Tamaño del vector: 1940\n",
            "Tamaño del vector: 1960\n",
            "Tamaño del vector: 1980\n",
            "Tamaño del vector: 2000\n",
            "Tamaño del vector: 2020\n",
            "Tamaño del vector: 2040\n",
            "Tamaño del vector: 2060\n",
            "Tamaño del vector: 2080\n",
            "Tamaño del vector: 2100\n",
            "Tamaño del vector: 2120\n",
            "Tamaño del vector: 2140\n",
            "Tamaño del vector: 2160\n",
            "Tamaño del vector: 2180\n",
            "Tamaño del vector: 2200\n",
            "Tamaño del vector: 2220\n",
            "Tamaño del vector: 2240\n",
            "Tamaño del vector: 2260\n",
            "Tamaño del vector: 2280\n",
            "Tamaño del vector: 2300\n",
            "Tamaño del vector: 2320\n",
            "Tamaño del vector: 2340\n",
            "Tamaño del vector: 2360\n",
            "Tamaño del vector: 2380\n",
            "Tamaño del vector: 2400\n",
            "Tamaño del vector: 2420\n",
            "Tamaño del vector: 2440\n",
            "Tamaño del vector: 2460\n",
            "Tamaño del vector: 2480\n",
            "Tamaño del vector: 2500\n",
            "Tamaño del vector: 2520\n",
            "Tamaño del vector: 2540\n",
            "Tamaño del vector: 2560\n",
            "Tamaño del vector: 2580\n",
            "Tamaño del vector: 2600\n",
            "Tamaño del vector: 2620\n",
            "Tamaño del vector: 2640\n",
            "Tamaño del vector: 2660\n",
            "Tamaño del vector: 2680\n",
            "Tamaño del vector: 2700\n",
            "Tamaño del vector: 2720\n",
            "Tamaño del vector: 2740\n",
            "Tamaño del vector: 2760\n",
            "Tamaño del vector: 2780\n",
            "Tamaño del vector: 2800\n",
            "Tamaño del vector: 2820\n",
            "Tamaño del vector: 2840\n",
            "Tamaño del vector: 2860\n",
            "Tamaño del vector: 2862\n",
            "Tamaño del vector: 2864\n",
            "Tamaño del vector: 2866\n",
            "Tamaño del vector: 2868\n"
          ],
          "name": "stdout"
        }
      ]
    },
    {
      "cell_type": "code",
      "metadata": {
        "id": "WnSnCjWIIwju",
        "colab": {
          "base_uri": "https://localhost:8080/"
        },
        "outputId": "3f053815-2509-4ed9-b2b9-8c114bddfebd"
      },
      "source": [
        "import pandas as pd\n",
        "from pandas import ExcelWriter\n",
        "from selenium.common.exceptions import NoSuchElementException\n",
        "# archivo_excel = pd.read_excel('Bumeran15.xlsx')\n",
        "# columnas = ['URL']\n",
        "detalle=[]\n",
        "mes=['enero','febrero','marzo','abril','mayo','junio','julio','agosto','septiembre','octubre','noviembre','diciembre']\n",
        "cdias=[31,28,31,30,31,30,31,31,30,31,30,31]\n",
        "urls = Url\n",
        "diadehoy=num\n",
        "# urls[0])\n",
        "# urls[0:89])\n",
        "empresa=[]\n",
        "oficio=[]\n",
        "antiguedad=[]\n",
        "area=[]\n",
        "distrito=[]\n",
        "ciudad=[]\n",
        "for i in range (len(urls)):\n",
        "  wd.get(urls[i])\n",
        "  print(i)\n",
        "# print(urls[i])\n",
        "# print(urls[i])\n",
        "  wd.implicitly_wait(15)\n",
        "  try:\n",
        "    x=wd.find_element_by_xpath('//h1')\n",
        "  except NoSuchElementException:\n",
        "    antiguedad.append(\"\")\n",
        "    lugar.append(\"\")\n",
        "    area.append(\"\")\n",
        "    empresa.append(\"\")\n",
        "    oficio.append(\"\")\n",
        "    detalle.append(\"\")\n",
        "    ciudad.append(\"\")\n",
        "    distrito.append(\"\")\n",
        "\n",
        "  if \"No encontramos\" in x.text and \"inconveniente\" in x.text : \n",
        "    antiguedad.append(\"\")\n",
        "    lugar.append(\"\")\n",
        "    area.append(\"\")\n",
        "    empresa.append(\"\")\n",
        "    oficio.append(\"\")\n",
        "    detalle.append(\"\")\n",
        "    ciudad.append(\"\")\n",
        "    distrito.append(\"\")\n",
        "  else:\n",
        "    try:\n",
        "      ops=wd.find_element_by_xpath('//div[@class=\"FichaAviso__DescripcionAviso-b2a7hd-11 jxRQZd\"]')\n",
        "      oficio.append(x.text)\n",
        "      detalle.append(ops.text)\n",
        "    except NoSuchElementException:\n",
        "      oficio.append(\"\")\n",
        "      detalle.append(\"\")\n",
        "  x2=wd.find_elements_by_xpath('//h2')\n",
        "  print(x2[1].text)\n",
        "  if len(x2)==12:\n",
        "    if x2[0].text:\n",
        "      empresa.append(x2[0].text)\n",
        "    if x2[1].text:\n",
        "      if \"Ayer\" in x2[1].text  :\n",
        "        antiguedad.append(1)\n",
        "      elif \"Hoy\" in x2[1].text :\n",
        "        antiguedad.append(0)\n",
        "      elif \"Public\" in x2[1].text and \"Hoy\" not in x2[1].text and \"Ayer\" not in x2[1].text:\n",
        "        a=x2[1].text.split(\" \")\n",
        "        if len(a)==4:\n",
        "          nums=a[2]\n",
        "          antiguedad.append(nums)\n",
        "        elif len(a)>=5:           \n",
        "          auxms=a[len(a)-1]\n",
        "          nums=int(diadehoy)-int(a[2])\n",
        "          if nums<0:\n",
        "            for k in range(len(mes)):\n",
        "              if (auxms==mes[k]):\n",
        "                jiji=nums+cdias[k]\n",
        "                antiguedad.append(jiji)\n",
        "          else:\n",
        "            antiguedad.append(nums)\n",
        "    if x2[2].text:\n",
        "      lugar=x2[2].text.replace(\".\",\"\").split(\",\")\n",
        "      if len(lugar)<2:\n",
        "        distrito.append(\"Lima\")\n",
        "        ciudad.append(\"Lima\")\n",
        "      else:      \n",
        "        dis=lugar[0]\n",
        "        ciu=lugar[1]\n",
        "        distrito.append(dis)\n",
        "        ciudad.append(ciu)\n",
        "    if x2[5].text:\n",
        "      area.append(x2[5].text)\n",
        "  if len(x2)<12:\n",
        "    area.append(\"\")\n",
        "    empresa.append(\"\")\n",
        "    ciudad.append(\"\")\n",
        "    distrito.append(\"\")\n",
        "    antiguedad.append(\"\")\n",
        "\n",
        "\n",
        "data = {'URL': urls,'Oficio':oficio,'Empresa':empresa,'Antiguedad':antiguedad,'Ciudad':ciudad,'Distrito':distrito,'Area':area,'Detalle':detalle}\n",
        "df = pd.DataFrame(data)\n",
        "writer = ExcelWriter(name)\n",
        "df.to_excel(writer, 'Hoja de datos', index=False)\n",
        "writer.save()\n",
        "# from google.colab import files\n",
        "# files.download('Bumeran120620ts.xlsx')\n"
      ],
      "execution_count": null,
      "outputs": [
        {
          "output_type": "stream",
          "text": [
            "0\n",
            "Publicado Ayer\n",
            "1\n",
            "Publicado Ayer\n",
            "2\n",
            "Publicado hace 2 días\n",
            "3\n",
            "Publicado hace 2 días\n",
            "4\n",
            "Publicado hace 2 días\n",
            "5\n",
            "Publicado hace 2 días\n",
            "6\n",
            "Publicado hace 2 días\n",
            "7\n",
            "Publicado hace 2 días\n",
            "8\n",
            "Publicado hace 2 días\n",
            "9\n",
            "Publicado hace 2 días\n",
            "10\n",
            "Publicado hace 2 días\n",
            "11\n",
            "Publicado hace 2 días\n",
            "12\n",
            "Publicado hace 2 días\n",
            "13\n",
            "Publicado hace 2 días\n",
            "14\n",
            "Publicado hace 2 días\n",
            "15\n",
            "Publicado hace 2 días\n",
            "16\n",
            "Publicado hace 2 días\n",
            "17\n",
            "Publicado hace 2 días\n",
            "18\n",
            "Publicado hace 3 días\n",
            "19\n",
            "Publicado hace 3 días\n",
            "20\n",
            "Publicado hace 3 días\n",
            "21\n",
            "Publicado hace 3 días\n",
            "22\n",
            "Publicado hace 3 días\n",
            "23\n",
            "Publicado hace 3 días\n",
            "24\n",
            "Publicado hace 3 días\n",
            "25\n",
            "Publicado hace 3 días\n",
            "26\n",
            "Publicado hace 3 días\n",
            "27\n",
            "Publicado hace 3 días\n",
            "28\n",
            "Publicado hace 3 días\n",
            "29\n",
            "Publicado hace 3 días\n",
            "30\n",
            "Publicado hace 3 días\n",
            "31\n",
            "Publicado hace 3 días\n",
            "32\n",
            "Publicado hace 3 días\n",
            "33\n",
            "Publicado hace 3 días\n",
            "34\n",
            "Publicado hace 3 días\n",
            "35\n",
            "Publicado hace 3 días\n",
            "36\n",
            "Publicado hace 3 días\n",
            "37\n",
            "Publicado hace 3 días\n",
            "38\n",
            "Publicado hace 3 días\n",
            "39\n",
            "Publicado hace 3 días\n",
            "40\n",
            "Publicado hace 3 días\n",
            "41\n",
            "Publicado el 3 de febrero\n",
            "42\n",
            "Publicado el 3 de febrero\n",
            "43\n",
            "Publicado el 3 de febrero\n",
            "44\n",
            "Publicado el 3 de febrero\n",
            "45\n",
            "Publicado el 3 de febrero\n",
            "46\n",
            "Publicado el 3 de febrero\n",
            "47\n",
            "Publicado el 3 de febrero\n",
            "48\n",
            "Publicado el 3 de febrero\n",
            "49\n",
            "Publicado el 3 de febrero\n",
            "50\n",
            "Publicado el 3 de febrero\n",
            "51\n",
            "Publicado el 3 de febrero\n",
            "52\n",
            "Publicado el 3 de febrero\n"
          ],
          "name": "stdout"
        }
      ]
    },
    {
      "cell_type": "code",
      "metadata": {
        "id": "dXBOO44rnMh_",
        "colab": {
          "base_uri": "https://localhost:8080/"
        },
        "outputId": "0bbb80f2-b0b0-40f6-afd7-da7ebd07387f"
      },
      "source": [
        "# print(\"oficio: \",oficio)\n",
        "# print(\"empresa: \",empresa)\n",
        "# print(\"antiguedad: \",antiguedad)\n",
        "# # print(\"lugar: \",lugar)\n",
        "# print(\"area: \",area)\n",
        "# data = {'URL': urls,'Oficio':oficio,'Empresa':empresa,'Antiguedad':antiguedad,'Ciudad':ciudad,'Distrito':distrito,'Area':area,'Detalle':detalle}\n",
        "# df = pd.DataFrame(data)\n",
        "# writer = ExcelWriter(name)\n",
        "# df.to_excel(writer, 'Hoja de datos', index=False)\n",
        "# writer.save()\n",
        "print(len(urls))\n",
        "print(len(oficio))\n",
        "print(len(empresa))\n",
        "print(len(area))\n",
        "print(len(distrito))\n",
        "print(len(ciudad))\n",
        "print(len(antiguedad))\n",
        "# len(urls[1224:1598])"
      ],
      "execution_count": null,
      "outputs": [
        {
          "output_type": "stream",
          "text": [
            "2840\n",
            "2840\n",
            "2840\n",
            "2840\n",
            "2840\n",
            "2840\n",
            "2766\n"
          ],
          "name": "stdout"
        }
      ]
    },
    {
      "cell_type": "code",
      "metadata": {
        "id": "mVRr6gHg-VzH",
        "colab": {
          "base_uri": "https://localhost:8080/",
          "height": 17
        },
        "outputId": "e9b908e5-821a-4f4d-a911-25e574467bcc"
      },
      "source": [
        "from google.colab import files\n",
        "files.download(name)\n"
      ],
      "execution_count": null,
      "outputs": [
        {
          "output_type": "display_data",
          "data": {
            "application/javascript": [
              "\n",
              "    async function download(id, filename, size) {\n",
              "      if (!google.colab.kernel.accessAllowed) {\n",
              "        return;\n",
              "      }\n",
              "      const div = document.createElement('div');\n",
              "      const label = document.createElement('label');\n",
              "      label.textContent = `Downloading \"${filename}\": `;\n",
              "      div.appendChild(label);\n",
              "      const progress = document.createElement('progress');\n",
              "      progress.max = size;\n",
              "      div.appendChild(progress);\n",
              "      document.body.appendChild(div);\n",
              "\n",
              "      const buffers = [];\n",
              "      let downloaded = 0;\n",
              "\n",
              "      const channel = await google.colab.kernel.comms.open(id);\n",
              "      // Send a message to notify the kernel that we're ready.\n",
              "      channel.send({})\n",
              "\n",
              "      for await (const message of channel.messages) {\n",
              "        // Send a message to notify the kernel that we're ready.\n",
              "        channel.send({})\n",
              "        if (message.buffers) {\n",
              "          for (const buffer of message.buffers) {\n",
              "            buffers.push(buffer);\n",
              "            downloaded += buffer.byteLength;\n",
              "            progress.value = downloaded;\n",
              "          }\n",
              "        }\n",
              "      }\n",
              "      const blob = new Blob(buffers, {type: 'application/binary'});\n",
              "      const a = document.createElement('a');\n",
              "      a.href = window.URL.createObjectURL(blob);\n",
              "      a.download = filename;\n",
              "      div.appendChild(a);\n",
              "      a.click();\n",
              "      div.remove();\n",
              "    }\n",
              "  "
            ],
            "text/plain": [
              "<IPython.core.display.Javascript object>"
            ]
          },
          "metadata": {
            "tags": []
          }
        },
        {
          "output_type": "display_data",
          "data": {
            "application/javascript": [
              "download(\"download_80a81008-5e2b-47f8-bf7f-9730ecc4836a\", \"Bumeran280121.xlsx\", 1418211)"
            ],
            "text/plain": [
              "<IPython.core.display.Javascript object>"
            ]
          },
          "metadata": {
            "tags": []
          }
        }
      ]
    }
  ]
}